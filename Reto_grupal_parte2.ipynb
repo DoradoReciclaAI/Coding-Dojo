{
  "nbformat": 4,
  "nbformat_minor": 0,
  "metadata": {
    "colab": {
      "name": "Reto grupal parte2.ipynb",
      "provenance": [],
      "authorship_tag": "ABX9TyPjcpFM1bLEuGEQ1nVqnDZb",
      "include_colab_link": true
    },
    "kernelspec": {
      "name": "python3",
      "display_name": "Python 3"
    },
    "language_info": {
      "name": "python"
    }
  },
  "cells": [
    {
      "cell_type": "markdown",
      "metadata": {
        "id": "view-in-github",
        "colab_type": "text"
      },
      "source": [
        "<a href=\"https://colab.research.google.com/github/DoradoReciclaAI/Coding-Dojo/blob/main/Reto_grupal_parte2.ipynb\" target=\"_parent\"><img src=\"https://colab.research.google.com/assets/colab-badge.svg\" alt=\"Open In Colab\"/></a>"
      ]
    },
    {
      "cell_type": "markdown",
      "source": [
        "**Descripción del reto:** La empresa Juguetón contrata a Coding Dojo para una consultoría de ciencia de datos. \n",
        "\n",
        "* El gerente de mercadeo de Juguetón precide el proyecto e indica que el objetivo es encontrar la mejor ruta de marketing para el lanzamiento de su nuevo juguete \"IG-NA\"."
      ],
      "metadata": {
        "id": "Wjbp_1w8Hp9m"
      }
    },
    {
      "cell_type": "markdown",
      "source": [
        "*puedes continuar escribiendo en el primer notebook*"
      ],
      "metadata": {
        "id": "jNI0bWGQHy3g"
      }
    },
    {
      "cell_type": "markdown",
      "source": [
        "**Actividades**\n",
        "- Lee la base de datos: act_3\n",
        "- ¿Cuántos clientes dijeron estar Felices, encantados, insatisfechos o con quejas con el servicio?\n",
        "- ¿Cuántos clientes viven en la localidad del norte,sur y centro de la ciudad?\n",
        "- A Juguetón le interesa vender el producto en las dos localidad con mayor concetración de clientes.¿Qué localidades son?\n",
        "\n",
        "**Para cada una de las localidades**\n",
        "\n",
        "- ¿Existen valores faltantes?\n",
        "- La base final será presentada al equipo designado de Juguetón, deja solo las variables de interés.\n",
        "- Han recibido un correo del área de servicio al cliente donde indica:\n",
        "    \"Hubo un error al digitar la variable *TotalChildren* y se le antepuso el signo (-), con la corrección pertinente la variable es de utilidad\".\n",
        "Realiza el cambio necesario a dicha variable.\n",
        "- Se nos ha informado que el Gerente comercial espera que para la reunión se pueda tener una vista general de los clientes (por localidad) que dijeron estar \"Felices\" y \"Encantados\" para crear un plan de fidelización.\n",
        "Genera esta vista.\n",
        "- Han recibido otro correo del área comercial donde indica:\n",
        "  \" Estimado equipo Coding Dojo, favor para la reunión de revisión de avances indicar una vista general de los clientes que dijeron estar \"Felices\" y \"Encantados\" y que ganan más de $80k anuales para invitarlos al lanzamiento del jueguete IG-NA\".\n",
        "  Geenra esta vista.\n",
        "- Han vuelto a recibir un correo del área de servicio al cliente donde indica:\n",
        "  \"Hemos estado revisando la base de datos que les enviaron y encontramos que la variable \"Toy_interested\" está mal etiquetada y en realidad hace referencia a si el cliente tiene o no la suscripción a nuestra newsletter, para que puedan hacer la corrección respectiva\".\n",
        "  Corrige el nombre de la variable.\n",
        "-El area de seguridad de la informacion esta creando manuales donde se encriptan las identificaciones de los clientes, por lo que se nos solicita que por si acaso el Gerente de Seguridad de la Informacion este, no se muestre la variable CustomerID. En caso de que no asista si se puede seguir con la vista completa. \n",
        "Dejar comentada la linea donde se elimina esta variables para ejecutar solo si es necesario.\n",
        "- Siguiendo con nuestra exploración de la base de datos: elimina aquellas variables que tengan el 80% de valores faltantes.\n",
        "- Para aquellas variables que tengan valores perdidos pero sea menos del 80%, realiza una imputación \"ffill\"."
      ],
      "metadata": {
        "id": "O8oCBYQ1H7bZ"
      }
    },
    {
      "cell_type": "code",
      "source": [
        ""
      ],
      "metadata": {
        "id": "rJVsAQ6gNxZH"
      },
      "execution_count": null,
      "outputs": []
    }
  ]
}